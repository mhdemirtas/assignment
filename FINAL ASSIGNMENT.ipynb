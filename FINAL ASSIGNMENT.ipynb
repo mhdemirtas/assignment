{
  "metadata": {
    "language_info": {
      "codemirror_mode": {
        "name": "python",
        "version": 3
      },
      "file_extension": ".py",
      "mimetype": "text/x-python",
      "name": "python",
      "nbconvert_exporter": "python",
      "pygments_lexer": "ipython3",
      "version": "3.8"
    },
    "kernelspec": {
      "name": "python",
      "display_name": "Python (Pyodide)",
      "language": "python"
    }
  },
  "nbformat_minor": 4,
  "nbformat": 4,
  "cells": [
    {
      "cell_type": "code",
      "source": "#installing libraries\n!pip install yfinance\n!pip install bs4",
      "metadata": {
        "trusted": true
      },
      "execution_count": null,
      "outputs": []
    },
    {
      "cell_type": "code",
      "source": "#importing libraries\nimport pandas as pd\n\nimport yfinance as yf\nimport requests\nfrom bs4 import BeautifulSoup\n\nimport plotly.graph_objects as go\nfrom plotly.subplots import make_subplots",
      "metadata": {
        "trusted": true
      },
      "execution_count": null,
      "outputs": []
    },
    {
      "cell_type": "code",
      "source": "def plot_graph(stock_data, revenue_data, stock):\n    fig = make_subplots(rows=2, cols=1, shared_xaxes=True, subplot_titles=(\"Historical Share Price ($)\", \"Historical Revenue ($)\"), vertical_spacing = .5)\n    fig.add_trace(go.Scatter(x=pd.to_datetime(stock_data.Date, infer_datetime_format=True), y=stock_data.Close.astype(\"float\"), name=\"Share Price\"), row=1, col=1)\n    fig.add_trace(go.Scatter(x=pd.to_datetime(revenue_data.Date, infer_datetime_format=True), y=revenue_data.Revenue.astype(\"float\"), name=\"Revenue\"), row=2, col=1)\n    fig.update_xaxes(title_text=\"Date\", row=1, col=1)\n    fig.update_xaxes(title_text=\"Date\", row=2, col=1)\n    fig.update_yaxes(title_text=\"Price ($)\", row=1, col=1)\n    fig.update_yaxes(title_text=\"Revenue ($ Millions)\", row=2, col=1)\n    fig.update_layout(showlegend=False, height=1000, title=stock, xaxis_rangeslider_visible=True)\n    fig.show()",
      "metadata": {
        "trusted": true
      },
      "execution_count": null,
      "outputs": []
    },
    {
      "cell_type": "code",
      "source": "# Using the Ticker function to create a ticker object.\n# ticker symbol of tesla is TSLA\ntesla_data = yf.Ticker('TSLA')\n\n# history function helps to extract stock information.\n# setting period parameter to max to get information for the maximum amount of time.\ntsla_data = tesla_data.history(period='max')\n\n# Resetting the index\ntsla_data.reset_index(inplace=True)\n\n# display the first five rows\ntsla_data.head()",
      "metadata": {
        "trusted": true
      },
      "execution_count": null,
      "outputs": []
    },
    {
      "cell_type": "code",
      "source": "# using requests library to download the webpage\nurl='https://www.macrotrends.net/stocks/charts/TSLA/tesla/revenue'\n\n# Save the text of the response\nhtml_text = requests.get(url).text\n\n# Parse the html data using beautiful_soup.\nsoup=BeautifulSoup(html_text, 'html5lib')",
      "metadata": {
        "trusted": true
      },
      "execution_count": null,
      "outputs": []
    },
    {
      "cell_type": "code",
      "source": "# Using beautiful soup extract the table with Tesla Quarterly Revenue.\n# creating new dataframe\ntsla_revenue = pd.DataFrame(columns=[\"Date\", \"Revenue\"])\n\ntables = soup.find_all('table')\ntable_index=0\n\nfor index, table in enumerate(tables):\n    if ('Tesla Quarterly Revenue'in str(table)):\n        table_index=index\n        \nfor row in tables[table_index].tbody.find_all(\"tr\"):\n    col = row.find_all(\"td\")\n    if (col!=[]):\n        date =col[0].text\n        # to remove comma and dollar sign\n        revenue =col[1].text.replace(\"$\", \"\").replace(\",\", \"\")\n        tsla_revenue=tsla_revenue.append({'Date':date,'Revenue':revenue},\n                                           ignore_index=True)\n\n# displaying dataframe\ntsla_revenue",
      "metadata": {
        "trusted": true
      },
      "execution_count": null,
      "outputs": []
    },
    {
      "cell_type": "code",
      "source": "# removing null values\ntsla_revenue = tsla_revenue[tsla_revenue['Revenue']!='']\ntsla_revenue",
      "metadata": {
        "trusted": true
      },
      "execution_count": null,
      "outputs": []
    },
    {
      "cell_type": "code",
      "source": "plot_graph(tsla_data, tsla_revenue, 'Tesla Historical Share Price & Revenue')\n",
      "metadata": {
        "trusted": true
      },
      "execution_count": null,
      "outputs": []
    },
    {
      "cell_type": "code",
      "source": "#  ticker symbol of GameStop is GME\ngamestop = yf.Ticker('GME')\n\n# extracting stock information\ngme_data=gamestop.history(period='max')\n\n#reset the index\ngme_data.reset_index(inplace=True)\ngme_data.head()",
      "metadata": {
        "trusted": true
      },
      "execution_count": null,
      "outputs": []
    },
    {
      "cell_type": "code",
      "source": "# using requests library to download the webpage\nurl = 'https://www.macrotrends.net/stocks/charts/GME/gamestop/revenue'\n\n# Save the text of the response\nhtml_data = requests.get(url).text\n\n# parse the html data\nsoup=BeautifulSoup(html_data, 'html5lib')",
      "metadata": {
        "trusted": true
      },
      "execution_count": null,
      "outputs": []
    },
    {
      "cell_type": "code",
      "source": "# Using beautiful soup extract the table with GameStop Quarterly Revenue\n# creating new dataframe\ngme_revenue = pd.DataFrame(columns=[\"Date\", \"Revenue\"])\ntables = soup.find_all('table')\n\ntable_index=0\nfor index, table in enumerate(tables):\n    if ('GameStop Quarterly Revenue'in str(table)):\n        table_index=index\n        \nfor row in tables[table_index].tbody.find_all(\"tr\"):\n    col = row.find_all(\"td\")\n    if (col!=[]):\n        date =col[0].text\n        # comma and dollar sign is removed\n        revenue =col[1].text.replace(\"$\", \"\").replace(\",\", \"\")\n        gme_revenue=gme_revenue.append({'Date':date,'Revenue':revenue},\n                                       ignore_index=True)",
      "metadata": {
        "trusted": true
      },
      "execution_count": null,
      "outputs": []
    },
    {
      "cell_type": "code",
      "source": "plot_graph(gme_data, gme_revenue, 'GameStop')",
      "metadata": {
        "trusted": true
      },
      "execution_count": null,
      "outputs": []
    },
    {
      "cell_type": "code",
      "source": "",
      "metadata": {},
      "execution_count": null,
      "outputs": []
    }
  ]
}